{
  "nbformat": 4,
  "nbformat_minor": 2,
  "metadata": {
    "colab": {
      "name": "Exploratory_Data_Analysis_Template.ipynb",
      "provenance": []
    },
    "kernelspec": {
      "name": "python3",
      "display_name": "Python 3.8.5 64-bit ('base': conda)"
    },
    "language_info": {
      "name": "python",
      "version": "3.8.5",
      "mimetype": "text/x-python",
      "codemirror_mode": {
        "name": "ipython",
        "version": 3
      },
      "pygments_lexer": "ipython3",
      "nbconvert_exporter": "python",
      "file_extension": ".py"
    },
    "interpreter": {
      "hash": "b840a5345ac93fda20b20a4499914d3fa1648ccd4d6ab224049f3b1918484b62"
    }
  },
  "cells": [
    {
      "cell_type": "markdown",
      "source": [
        "# Objective\n",
        "What is the objective or goal that you are trying to accomplish? What is the decision that you must make?"
      ],
      "metadata": {
        "id": "lsDrM8l-04op"
      }
    },
    {
      "cell_type": "code",
      "execution_count": null,
      "source": [
        "#The goal I am trying to achieve is to reduce the number of calls and resolve them at the first point of contact so that the customers are satisfied"
      ],
      "outputs": [],
      "metadata": {
        "id": "w-GUhxgN00RG"
      }
    },
    {
      "cell_type": "markdown",
      "source": [
        "# Hypothesis: Research Question?\n",
        " What is the question that you would like to answer in order to make a decision."
      ],
      "metadata": {
        "id": "8Fv7ykXU0_I5"
      }
    },
    {
      "cell_type": "code",
      "execution_count": null,
      "source": [
        "#What is the reason for so many calls?\r\n",
        "\r\n",
        "#In the internet area with the most difficulties"
      ],
      "outputs": [],
      "metadata": {
        "id": "jJRBPtaDDoJP"
      }
    },
    {
      "cell_type": "markdown",
      "source": [
        "# Data Source\n",
        "Explain where did you get the data. How can you trust this data? Who produced this data and what were their motiviations?\n"
      ],
      "metadata": {
        "id": "9pBreNBF1FgG"
      }
    },
    {
      "cell_type": "code",
      "execution_count": null,
      "source": [
        "#The data I got from the customer service of Digicel \r\n",
        "#I trust the data because it comes from the call center and it's specific customer requests\r\n",
        "#The data was produced by the agents in order to note the requests of the customers and to solve their difficulties"
      ],
      "outputs": [],
      "metadata": {
        "id": "CNFnyfmWDon4"
      }
    },
    {
      "cell_type": "markdown",
      "source": [
        "# Data Cleaning\n",
        "In this step you will prepare your data for analysis.\n",
        "\n",
        "## Review data types\n",
        "Inspect the dataset for the data types of each column.\n",
        "\n",
        "## Analytical Transformations\n",
        "Perform any transformation on the columns in the dataset to enable further analysis.\n",
        "\n",
        "### Treatment of Missing Values\n",
        "If there are any missing values, how do you plan to treat those data columns?"
      ],
      "metadata": {
        "id": "LdBQ_GkJ1xX0"
      }
    },
    {
      "cell_type": "code",
      "execution_count": null,
      "source": [
        "!pip install geopandas"
      ],
      "outputs": [],
      "metadata": {}
    },
    {
      "cell_type": "code",
      "execution_count": null,
      "source": [
        "import numpy as np\r\n",
        "import pandas as pd\r\n",
        "import matplotlib.pyplot as plt\r\n",
        "import seaborn as sns\r\n",
        "import re\r\n",
        "import datetime as dt\r\n",
        "import pickle"
      ],
      "outputs": [],
      "metadata": {
        "id": "E9L98pYKDpCb"
      }
    },
    {
      "cell_type": "code",
      "execution_count": null,
      "source": [
        "dec = pd.read_excel(\"decembre.xlsx\")\r\n",
        "nov = pd.read_excel(\"nov 11.xlsx\")\r\n",
        "nov_2=pd.read_excel(\"novembre.xlsx\")\r\n",
        "octo = pd.read_excel(\"octobre.xlsx\")\r\n",
        "jan  =pd.read_excel(\"janvier.xlsx\")\r\n",
        "fev  =pd.read_excel(\"fevrier.xlsx\")\r\n",
        "Mar  =pd.read_excel(\"mars.xlsx\")"
      ],
      "outputs": [],
      "metadata": {}
    },
    {
      "cell_type": "code",
      "execution_count": null,
      "source": [
        "fev.columns=dec.columns\r\n",
        "Mar.columns=dec.columns"
      ],
      "outputs": [],
      "metadata": {}
    },
    {
      "cell_type": "code",
      "execution_count": null,
      "source": [
        "print(\"sub category null for dec\",sum(dec.CallSubCategory.isna()))"
      ],
      "outputs": [],
      "metadata": {}
    },
    {
      "cell_type": "code",
      "execution_count": null,
      "source": [
        "print(\"sub category null for fev\",sum(fev.CallSubCategory.isna()))"
      ],
      "outputs": [],
      "metadata": {}
    },
    {
      "cell_type": "code",
      "execution_count": null,
      "source": [
        "nov.CallCategory.unique()"
      ],
      "outputs": [],
      "metadata": {}
    },
    {
      "cell_type": "code",
      "execution_count": null,
      "source": [
        "fev"
      ],
      "outputs": [],
      "metadata": {}
    },
    {
      "cell_type": "code",
      "execution_count": null,
      "source": [
        "#We will aggregate the data for the last 6 months of the year 2020, 2021\r\n",
        "unified=pd.concat([octo, nov,nov_2, dec,jan,fev,Mar], axis=0, ignore_index= True)"
      ],
      "outputs": [],
      "metadata": {}
    },
    {
      "cell_type": "code",
      "execution_count": null,
      "source": [
        "unified.head(2)"
      ],
      "outputs": [],
      "metadata": {}
    },
    {
      "cell_type": "code",
      "execution_count": null,
      "source": [
        "unified['DateAndTime'] = unified.CreatedDate.str.cat(unified.CreatedTime,sep=\" \")"
      ],
      "outputs": [],
      "metadata": {}
    },
    {
      "cell_type": "code",
      "execution_count": null,
      "source": [
        "unified.columns"
      ],
      "outputs": [],
      "metadata": {}
    },
    {
      "cell_type": "code",
      "execution_count": null,
      "source": [
        "unified.info()"
      ],
      "outputs": [],
      "metadata": {}
    },
    {
      "cell_type": "code",
      "execution_count": null,
      "source": [
        "unified.DateAndTime=pd.to_datetime(unified.DateAndTime)"
      ],
      "outputs": [],
      "metadata": {}
    },
    {
      "cell_type": "code",
      "execution_count": null,
      "source": [
        "unified[\"month\"]=unified.DateAndTime.dt.month\r\n",
        "unified[\"day\"]=unified.DateAndTime.dt.day\r\n",
        "unified[\"hour\"]=unified.DateAndTime.dt.hour\r\n",
        "unified[\"year\"]=unified.DateAndTime.dt.year"
      ],
      "outputs": [],
      "metadata": {}
    },
    {
      "cell_type": "code",
      "execution_count": null,
      "source": [
        "#unified.set_inde([])"
      ],
      "outputs": [],
      "metadata": {}
    },
    {
      "cell_type": "code",
      "execution_count": null,
      "source": [
        "unified.DateAndTime"
      ],
      "outputs": [],
      "metadata": {}
    },
    {
      "cell_type": "code",
      "execution_count": null,
      "source": [
        "CallCategory=unified[['DateAndTime','CallCategory' ]].set_index('DateAndTime')"
      ],
      "outputs": [],
      "metadata": {}
    },
    {
      "cell_type": "code",
      "execution_count": null,
      "source": [
        "CallCategory.resample(\"D\").count().plot(figsize=(15,15))"
      ],
      "outputs": [],
      "metadata": {}
    },
    {
      "cell_type": "code",
      "execution_count": null,
      "source": [
        "#Format Date\r\n",
        "\r\n",
        "unified['CreatedDate']=pd.to_datetime(unified[\"CreatedDate\"])\r\n"
      ],
      "outputs": [],
      "metadata": {}
    },
    {
      "cell_type": "code",
      "execution_count": null,
      "source": [
        "#Let's calculate the number of calls per day\r\n",
        "dailycalls = unified.CreatedDate.value_counts()\r\n",
        "dailycalls = dailycalls.to_frame().reset_index()\r\n",
        "dailycalls.sort_values(\"index\", inplace=True)\r\n",
        "dailycalls"
      ],
      "outputs": [],
      "metadata": {}
    },
    {
      "cell_type": "code",
      "execution_count": null,
      "source": [
        "dailycalls.set_index('index')\r\n",
        "sns.lineplot(data = dailycalls,x=\"index\",y=\"CreatedDate\")"
      ],
      "outputs": [],
      "metadata": {}
    },
    {
      "cell_type": "code",
      "execution_count": null,
      "source": [
        "#Let's note the days with the most calls\r\n",
        "dailycalls2 = unified.CreatedDate.value_counts()\r\n",
        "dailycalls2 = dailycalls2.to_frame().reset_index()\r\n",
        "dailycalls2.sort_values(\"CreatedDate\", ascending = False, inplace=True)\r\n",
        "dailycalls2"
      ],
      "outputs": [],
      "metadata": {}
    },
    {
      "cell_type": "code",
      "execution_count": null,
      "source": [
        "sns.barplot(data=dailycalls2.head(5),y=\"index\",x=\"CreatedDate\")"
      ],
      "outputs": [],
      "metadata": {}
    },
    {
      "cell_type": "code",
      "execution_count": null,
      "source": [
        "df_2021_02_01 = unified.loc[unified['CreatedDate'] == '2021-02-01']\r\n"
      ],
      "outputs": [],
      "metadata": {}
    },
    {
      "cell_type": "code",
      "execution_count": null,
      "source": [
        "test=unified.set_index(['DateAndTime'])#.resample(\"D\").count()"
      ],
      "outputs": [],
      "metadata": {}
    },
    {
      "cell_type": "code",
      "execution_count": null,
      "source": [
        "#Let's check for each service the number of requests received per day\r\n",
        "daySub=pd.pivot_table(unified, index='DateAndTime', values='CallCategory',columns=\"CallSubCategory\", aggfunc='count').resample(\"D\").count()"
      ],
      "outputs": [],
      "metadata": {}
    },
    {
      "cell_type": "code",
      "execution_count": null,
      "source": [
        "daySub=pd.pivot_table(unified, index='DateAndTime', values='CallCategory',columns=\"CallSubCategory\", aggfunc='count').resample(\"D\").count()"
      ],
      "outputs": [],
      "metadata": {}
    },
    {
      "cell_type": "code",
      "execution_count": null,
      "source": [
        "daySub"
      ],
      "outputs": [],
      "metadata": {}
    },
    {
      "cell_type": "code",
      "execution_count": null,
      "source": [
        "daySub[\"Total\"]=daySub.sum(axis=1)"
      ],
      "outputs": [],
      "metadata": {}
    },
    {
      "cell_type": "code",
      "execution_count": null,
      "source": [
        "daySub.sort_values(by=\"Total\")"
      ],
      "outputs": [],
      "metadata": {}
    },
    {
      "cell_type": "code",
      "execution_count": null,
      "source": [
        "#Among the 5 days with the most calls let's check the cause\r\n",
        "#Day1=2021-02-01\r\n",
        "#Day2=2021-02-13\r\n",
        "#Day3=2021-03-24\r\n",
        "#Day4=2021-03-26\r\n",
        "#Day5=2021-03-25\t\r\n"
      ],
      "outputs": [],
      "metadata": {}
    },
    {
      "cell_type": "code",
      "execution_count": null,
      "source": [
        "daySub.loc[\"2021-02-01\",:]#.sort_index()"
      ],
      "outputs": [],
      "metadata": {}
    },
    {
      "cell_type": "code",
      "execution_count": null,
      "source": [
        "daySub.loc[\"2021-02-13\",:]#.sort_index()"
      ],
      "outputs": [],
      "metadata": {}
    },
    {
      "cell_type": "code",
      "execution_count": null,
      "source": [
        "daySub.loc[\"2021-03-24\",:]#.sort_index()"
      ],
      "outputs": [],
      "metadata": {}
    },
    {
      "cell_type": "code",
      "execution_count": null,
      "source": [
        "daySub.loc[\"2021-03-26\",:]#.sort_index()"
      ],
      "outputs": [],
      "metadata": {}
    },
    {
      "cell_type": "code",
      "execution_count": null,
      "source": [
        "daySub.loc[\"2021-03-25\",:]#.sort_index()"
      ],
      "outputs": [],
      "metadata": {}
    },
    {
      "cell_type": "code",
      "execution_count": null,
      "source": [
        "#Amount of calls per day\r\n",
        "daySub.sum(axis=1)"
      ],
      "outputs": [],
      "metadata": {}
    },
    {
      "cell_type": "code",
      "execution_count": null,
      "source": [
        "#The list of the 5 days with the most calls\r\n",
        "df = dailycalls2.iloc[:5, :]\r\n",
        "df.rename(columns={\"index\":\"Jour\"}, inplace=True)\r\n",
        "df.Jour = df.Jour.astype(\"object\")\r\n",
        "df.Jour = df.Jour.apply(lambda x: str(x)[:10])\r\n",
        "b = df.Jour.to_list()\r\n",
        "Jour1 = b[0]\r\n",
        "Jour2 = b[1]\r\n",
        "Jour3 = b[2:]\r\n",
        "df1 = unified[unified[\"CreatedDate\"]== Jour1]\r\n",
        "df2 = unified[unified[\"CreatedDate\"]== Jour2]\r\n",
        "df3 = pd.DataFrame()\r\n",
        "for Jour in Jour3:\r\n",
        "    df0 = unified[unified[\"CreatedDate\"]== Jour]\r\n",
        "    df3 = pd.concat([df3, df0])"
      ],
      "outputs": [],
      "metadata": {}
    },
    {
      "cell_type": "code",
      "execution_count": null,
      "source": [
        "test=unified.set_index(\"DateAndTime\")"
      ],
      "outputs": [],
      "metadata": {}
    },
    {
      "cell_type": "code",
      "execution_count": null,
      "source": [
        "#Let's see which time slot has the most calls\r\n",
        "test.CallCategory.resample(\"H\").count().sort_values(ascending=False)"
      ],
      "outputs": [],
      "metadata": {}
    },
    {
      "cell_type": "code",
      "execution_count": null,
      "source": [
        "#let's see in the category complaint the most frequent requests of the customers\r\n",
        "unified1 = unified[unified[\"Callsubcategory2\"]==\"Complaint\"]"
      ],
      "outputs": [],
      "metadata": {}
    },
    {
      "cell_type": "code",
      "execution_count": null,
      "source": [
        "Callsubcategory1 =unified1.groupby(by=['Callsubcategory1']).size().to_frame()\r\n",
        "Callsubcategory1.columns = ['Total']\r\n",
        "Callsubcategory1.sort_values(by=['Total'],inplace=False)\r\n",
        "Callsubcategory1"
      ],
      "outputs": [],
      "metadata": {}
    },
    {
      "cell_type": "code",
      "execution_count": null,
      "source": [
        "unified5= unified1.groupby([\"Callsubcategory1\",\"Callsubcategory2\"])[\"CreatedDate\"].count().to_frame()\r\n",
        "unified5"
      ],
      "outputs": [],
      "metadata": {}
    },
    {
      "cell_type": "code",
      "execution_count": null,
      "source": [
        "#let's see in the category request the most frequent requests of the customers\r\n",
        "unified3 = unified[unified[\"Callsubcategory2\"]==\"Request\"]"
      ],
      "outputs": [],
      "metadata": {}
    },
    {
      "cell_type": "code",
      "execution_count": null,
      "source": [
        "Callsubcategory1 =unified3.groupby(by=['Callsubcategory1']).size().to_frame()\r\n",
        "Callsubcategory1.columns = ['Total']\r\n",
        "Callsubcategory1.sort_values(by=['Total'],inplace=False)\r\n",
        "Callsubcategory1"
      ],
      "outputs": [],
      "metadata": {}
    },
    {
      "cell_type": "code",
      "execution_count": null,
      "source": [
        "unified5= unified3.groupby([\"Callsubcategory1\",\"Callsubcategory2\"])[\"CreatedDate\"].count().to_frame()\r\n",
        "unified5"
      ],
      "outputs": [],
      "metadata": {}
    },
    {
      "cell_type": "code",
      "execution_count": null,
      "source": [
        "##let's see in the query the most frequent requests of the customers\r\n",
        "unified4 = unified[unified[\"Callsubcategory2\"]==\"Query\"]"
      ],
      "outputs": [],
      "metadata": {}
    },
    {
      "cell_type": "code",
      "execution_count": null,
      "source": [
        "Callsubcategory1 =unified4.groupby(by=['Callsubcategory1']).size().to_frame()\r\n",
        "Callsubcategory1.columns = ['Total']\r\n",
        "Callsubcategory1.sort_values(by=['Total'],inplace=False)\r\n",
        "Callsubcategory1"
      ],
      "outputs": [],
      "metadata": {}
    },
    {
      "cell_type": "code",
      "execution_count": null,
      "source": [
        "unified5= unified4.groupby([\"Callsubcategory1\",\"Callsubcategory2\"])[\"CreatedDate\"].count().to_frame()\r\n",
        "unified5"
      ],
      "outputs": [],
      "metadata": {}
    },
    {
      "cell_type": "code",
      "execution_count": null,
      "source": [
        "display(unified1)"
      ],
      "outputs": [],
      "metadata": {}
    },
    {
      "cell_type": "code",
      "execution_count": null,
      "source": [
        "unified.CreatedDate.dtypes"
      ],
      "outputs": [],
      "metadata": {}
    },
    {
      "cell_type": "code",
      "execution_count": null,
      "source": [
        "unified.info()"
      ],
      "outputs": [],
      "metadata": {}
    },
    {
      "cell_type": "code",
      "execution_count": null,
      "source": [
        "def generate_barchart(data=unified, title =\"\",abs_value =\"Total\",rel_value=\"Percent\",figsize =(10,6)):\r\n",
        "     plt.figure(figsize=figsize)\r\n",
        "     axes = sns.barplot(data=data,x=data.index,y=abs_value)\r\n",
        "     i=0\r\n",
        "     for tot, perc in zip(data[abs_value],data[rel_value]):\r\n",
        "        axes.text(i,\r\n",
        "           tot/2,\r\n",
        "              str(np.round(perc*100,2))+ \"%\",\r\n",
        "               fontdict=dict(color='yellow',fontsize=12,horizontalalignment=\"center\")\r\n",
        "              )\r\n",
        "        axes.text(i,\r\n",
        "           tot+10,\r\n",
        "              str(tot),\r\n",
        "               fontdict=dict(color='blue',fontsize=12,horizontalalignment=\"center\")\r\n",
        "              )\r\n",
        "        i+=1\r\n",
        "     plt.title(title)\r\n",
        "     plt.show()"
      ],
      "outputs": [],
      "metadata": {}
    },
    {
      "cell_type": "code",
      "execution_count": null,
      "source": [
        "#let's see when customers call for which service they require the most\r\n",
        "unified['CallCategory'] =unified['CallCategory'].apply(lambda x: str(x).strip().replace(\"\\\\t\",\"\"))\r\n",
        "\r\n",
        "CallCategory =unified.groupby(by=['CallCategory']).size().to_frame()\r\n",
        "CallCategory.columns = ['Total']\r\n",
        "CallCategory.sort_values(by=['Total'],inplace=False)\r\n",
        "CallCategory"
      ],
      "outputs": [],
      "metadata": {}
    },
    {
      "cell_type": "code",
      "execution_count": null,
      "source": [
        "CallCategory =CallCategory.tail(10)\r\n",
        "sns.barplot(x=CallCategory.index,y=CallCategory[\"Total\"])"
      ],
      "outputs": [],
      "metadata": {}
    },
    {
      "cell_type": "code",
      "execution_count": null,
      "source": [
        "month=pd.pivot_table(unified, index=\"month\", columns=\"CallCategory\", values=\"CaseNumber\", aggfunc=\"count\")"
      ],
      "outputs": [],
      "metadata": {}
    },
    {
      "cell_type": "code",
      "execution_count": null,
      "source": [
        "sns.lineplot(data=month)"
      ],
      "outputs": [],
      "metadata": {}
    },
    {
      "cell_type": "code",
      "execution_count": null,
      "source": [
        "#Let's see which of the Dealer/Vendor and Prepaid/Postpaid customers uses the service the most\r\n",
        "HelpTopic =unified.groupby(by=['HelpTopic']).size().to_frame()\r\n",
        "HelpTopic.columns = ['Total']\r\n",
        "HelpTopic.sort_values(by=['Total'],inplace=False)\r\n",
        "HelpTopic"
      ],
      "outputs": [],
      "metadata": {}
    },
    {
      "cell_type": "code",
      "execution_count": null,
      "source": [
        "HelpTopic =HelpTopic.iloc[::-1,:]\r\n",
        "sns.barplot(data=HelpTopic,y=HelpTopic.index,x=\"Total\")"
      ],
      "outputs": [],
      "metadata": {}
    },
    {
      "cell_type": "code",
      "execution_count": null,
      "source": [
        "#Let's look for the most frequent customer requests\r\n",
        "Callsubcategory2 =unified.groupby(by=['Callsubcategory2']).size().to_frame()\r\n",
        "Callsubcategory2.columns = ['Total']\r\n",
        "Callsubcategory2.sort_values(by=['Total'],inplace=False)\r\n",
        "Callsubcategory2"
      ],
      "outputs": [],
      "metadata": {}
    },
    {
      "cell_type": "code",
      "execution_count": null,
      "source": [
        "Callsubcategory2 =Callsubcategory2.iloc[::-1,:]\r\n",
        "sns.barplot(data=Callsubcategory2,y=Callsubcategory2.index,x=\"Total\")"
      ],
      "outputs": [],
      "metadata": {}
    },
    {
      "cell_type": "code",
      "execution_count": null,
      "source": [
        "#What do customers complain about when they call the service\r\n",
        "CallSubCategory =unified.groupby(by=['CallSubCategory']).size().to_frame()\r\n",
        "CallSubCategory.columns = ['Total']\r\n",
        "CallSubCategory.sort_values(by=['Total'],inplace=True)\r\n",
        "CallSubCategory"
      ],
      "outputs": [],
      "metadata": {}
    },
    {
      "cell_type": "code",
      "execution_count": null,
      "source": [
        "CallSubCategory =CallSubCategory.tail(10)\r\n",
        "sns.barplot(data=CallSubCategory,y=CallSubCategory.index,x=\"Total\")"
      ],
      "outputs": [],
      "metadata": {}
    },
    {
      "cell_type": "code",
      "execution_count": null,
      "source": [
        "#Let's create a dictionary to better explain the reasons for the calls.\r\n",
        "dict ={ \"Calls\":\"when the customer calls you and the call is interrupted\", \"Depletion\":\"Unable to make calls to Digicel numbers\",\"Digi_kredi\":\"to be done in Digicel service\",\"Rederect\":\"information needed to transport to another department\",\"Barring/Unbarring\":\"unblock and block an account\"}"
      ],
      "outputs": [],
      "metadata": {}
    },
    {
      "cell_type": "code",
      "execution_count": null,
      "source": [
        "#Let's see the customers by category and which one calls the most\r\n",
        "SkillSet =unified.groupby(by=['SkillSet']).size().to_frame()\r\n",
        "SkillSet.columns = ['Total']\r\n",
        "SkillSet.sort_values(by=['Total'],inplace=True)\r\n",
        "SkillSet"
      ],
      "outputs": [],
      "metadata": {}
    },
    {
      "cell_type": "code",
      "execution_count": null,
      "source": [
        "SkillSet =SkillSet.tail(10)\r\n",
        "sns.barplot(data=SkillSet,y=SkillSet.index,x=\"Total\")"
      ],
      "outputs": [],
      "metadata": {}
    },
    {
      "cell_type": "code",
      "execution_count": null,
      "source": [
        "#Let's create a dictionary to better explain the types of customers\r\n",
        "dict= {\"Pre_S01_VHV\":\"2nd customers who call much more for the Diaspora Offer service\",\"PRE_S02_HV\":\"1nd customers who call much more for the Diaspora Offer service\",\"PRE_SO3_MV\":\" customers who call much more for the 4G Services\",\"PRE_S04-LV\":\" 2nd customer who calls much more for the 4 service Lte and the Disputed charges service\",\"PRE_S05_VLV\":\"Customer5\",\"PRE_DO_Line\":\"Ccustomers who call much more for the Disputed charges service\",\"DO_Line\":\"customers who call much more for the Unbarring service\",\"UDP_VENDORLINE\":\"Vendor\",\"DealerLine\":\"replacement\",\"Sim_Depletion\":\"Unable to make calls to Digicel numbers\"}"
      ],
      "outputs": [],
      "metadata": {}
    },
    {
      "cell_type": "code",
      "execution_count": null,
      "source": [
        "#ns pral gade pou chak SkillSet yo pou kisa kliyan yo rele plis pou nou kapab idantifye ki kliyan yo ye\r\n",
        "pd.crosstab(unified['SkillSet'], unified['CallSubCategory'])"
      ],
      "outputs": [],
      "metadata": {}
    },
    {
      "cell_type": "code",
      "execution_count": null,
      "source": [
        "#let's see where there is much more of a Network problem\r\n",
        "CallSubCategory_Location =unified[unified['CallSubCategory'] ==' Network Issue '].groupby(by=['CallSubCategory','Location']).size().to_frame()\r\n",
        "CallSubCategory_Location .columns = ['Total']\r\n",
        "CallSubCategory_Location .sort_values(by=['Total'],inplace=True)\r\n",
        "CallSubCategory_Location  = CallSubCategory_Location.reset_index(level = 1)"
      ],
      "outputs": [],
      "metadata": {}
    },
    {
      "cell_type": "code",
      "execution_count": null,
      "source": [
        "CallSubCategory_Location"
      ],
      "outputs": [],
      "metadata": {}
    },
    {
      "cell_type": "code",
      "execution_count": null,
      "source": [
        "CallSubCategory_Location.tail(6).plot(kind = 'bar', x = 'Location')"
      ],
      "outputs": [],
      "metadata": {}
    },
    {
      "cell_type": "code",
      "execution_count": null,
      "source": [
        "#let's see the phone model used by these people \r\n",
        "CallSubCategory_Handset =unified[unified['CallSubCategory'] ==' Network Issue '].groupby(by=['CallSubCategory','Handset']).size().to_frame()\r\n",
        "CallSubCategory_Handset .columns = ['Total']\r\n",
        "CallSubCategory_Handset .sort_values(by=['Total'],inplace=True)\r\n",
        "CallSubCategory_Handset  = CallSubCategory_Handset.reset_index(level = 1)"
      ],
      "outputs": [],
      "metadata": {}
    },
    {
      "cell_type": "code",
      "execution_count": null,
      "source": [
        "CallSubCategory_Handset"
      ],
      "outputs": [],
      "metadata": {}
    },
    {
      "cell_type": "code",
      "execution_count": null,
      "source": [
        "CallSubCategory_Handset.tail(6).plot(kind = 'bar', x = 'Handset')"
      ],
      "outputs": [],
      "metadata": {}
    },
    {
      "cell_type": "code",
      "execution_count": null,
      "source": [
        "unified.CallSubCategory.unique()"
      ],
      "outputs": [],
      "metadata": {}
    },
    {
      "cell_type": "code",
      "execution_count": null,
      "source": [
        "unified[unified.Status=='Dropped Call']"
      ],
      "outputs": [],
      "metadata": {}
    },
    {
      "cell_type": "code",
      "execution_count": null,
      "source": [
        "unified.SkillSet.unique()"
      ],
      "outputs": [],
      "metadata": {}
    },
    {
      "cell_type": "code",
      "execution_count": null,
      "source": [
        "unified.AgentComment"
      ],
      "outputs": [],
      "metadata": {}
    },
    {
      "cell_type": "code",
      "execution_count": null,
      "source": [
        "unified.columns"
      ],
      "outputs": [],
      "metadata": {}
    },
    {
      "cell_type": "code",
      "execution_count": null,
      "source": [
        "#I will choose the columns I will work with\r\n",
        "columns=[]\r\n",
        "new_unified=unified[[\"CreatedDate\",\"CreatedTime\",\"CallCategory\",\"HelpTopic\",\"CallSubCategory\",\"Callsubcategory1\",\"Callsubcategory2\",\"SkillSet\",\"Location\",\"Handset\",\"CallingNumber\",\"AgentComment\",\"AgentFullname\",\"Status\"]]\r\n",
        "new_unified"
      ],
      "outputs": [],
      "metadata": {}
    },
    {
      "cell_type": "code",
      "execution_count": null,
      "source": [
        "#I made transformations on the columns with missing values\r\n",
        "new_unified[['Location','Handset','Callsubcategory1']]= new_unified[['Location','Handset','Callsubcategory1']].fillna('None')"
      ],
      "outputs": [],
      "metadata": {}
    },
    {
      "cell_type": "code",
      "execution_count": null,
      "source": [
        "new_unified\r\n"
      ],
      "outputs": [],
      "metadata": {}
    },
    {
      "cell_type": "code",
      "execution_count": null,
      "source": [
        "unified[\"CreatedDate\"].value_counts()"
      ],
      "outputs": [],
      "metadata": {}
    },
    {
      "cell_type": "code",
      "execution_count": null,
      "source": [
        "unified[\"Month\"]=unified[\"CreatedDate\"].apply(lambda x: str(x)[5:7])\r\n",
        "unified[\"Month\"].value_counts()"
      ],
      "outputs": [],
      "metadata": {}
    },
    {
      "cell_type": "code",
      "execution_count": null,
      "source": [
        "table = pd.pivot_table(unified, values='CallingNumber', index=['Month'],columns=['CallCategory'], aggfunc= \"count\")\r\n",
        "table"
      ],
      "outputs": [],
      "metadata": {}
    },
    {
      "cell_type": "code",
      "execution_count": null,
      "source": [
        "unified[\"CreatedDate\"]=pd.to_datetime(unified[\"CreatedDate\"])\r\n",
        "unified[\"Month\"] = unified[\"CreatedDate\"].dt.month\r\n",
        "unified[\"Year\"] = unified[\"CreatedDate\"].dt.year\r\n"
      ],
      "outputs": [],
      "metadata": {}
    },
    {
      "cell_type": "code",
      "execution_count": null,
      "source": [
        "by_month = unified.groupby(by=[\"Month\",\"Year\"])['CallCategory'].value_counts().to_frame()\r\n",
        "by_month#.xs(\"Network\", level=2)"
      ],
      "outputs": [],
      "metadata": {}
    },
    {
      "cell_type": "code",
      "execution_count": null,
      "source": [
        "#\r\n",
        "by_month.plot(kind = 'bar', figsize=(15,15))"
      ],
      "outputs": [],
      "metadata": {}
    },
    {
      "cell_type": "code",
      "execution_count": null,
      "source": [
        "#Turn customer numbers into ID\r\n",
        "def myHash(x):\r\n",
        "\r\n",
        "    return hash(str(x))\r\n",
        "new_unified['CallingNumber']=new_unified['CallingNumber'].apply(myHash)\r\n",
        "new_unified"
      ],
      "outputs": [],
      "metadata": {}
    },
    {
      "cell_type": "code",
      "execution_count": null,
      "source": [
        "#Transform AgentFullname names into IDs\r\n",
        "def myHash(x):\r\n",
        "\r\n",
        "    return hash(str(x))\r\n",
        "new_unified['AgentFullname']=new_unified['AgentFullname'].apply(myHash)\r\n",
        "new_unified"
      ],
      "outputs": [],
      "metadata": {}
    },
    {
      "cell_type": "code",
      "execution_count": null,
      "source": [
        "new_unified[\"AgentComment\"]=new_unified[\"AgentComment\"].astype('str')"
      ],
      "outputs": [],
      "metadata": {}
    },
    {
      "cell_type": "code",
      "execution_count": null,
      "source": [
        "#In the AgentComment column there were customer numbers I had to remove them\r\n",
        "def remov(x) :\r\n",
        "    result = ''.join([i for i in x if not i.isdigit()])\r\n",
        "    return result"
      ],
      "outputs": [],
      "metadata": {}
    },
    {
      "cell_type": "code",
      "execution_count": null,
      "source": [
        "new_unified[\"AgentComment\"]=new_unified[\"AgentComment\"].apply(lambda x : remov(x))"
      ],
      "outputs": [],
      "metadata": {}
    },
    {
      "cell_type": "code",
      "execution_count": null,
      "source": [
        "new_unified"
      ],
      "outputs": [],
      "metadata": {}
    },
    {
      "cell_type": "code",
      "execution_count": null,
      "source": [
        "#new_unified=new_unified[columns]"
      ],
      "outputs": [],
      "metadata": {}
    },
    {
      "cell_type": "code",
      "execution_count": null,
      "source": [
        "#Let's display the AgentComment column\r\n",
        "new_unified['AgentComment']"
      ],
      "outputs": [],
      "metadata": {}
    },
    {
      "cell_type": "code",
      "execution_count": null,
      "source": [
        "import seaborn as sns\r\n",
        "sns.countplot(data = new_unified, x='Callsubcategory2')"
      ],
      "outputs": [],
      "metadata": {}
    },
    {
      "cell_type": "code",
      "execution_count": null,
      "source": [
        "#Let's create several tabs in order to link to the main Power BI tab\r\n",
        "#CallCategory\r\n",
        "df_for_PBI = new_unified.iloc[:,:]\r\n",
        "\r\n",
        "cat = df_for_PBI.CallCategory.unique()\r\n",
        "cat"
      ],
      "outputs": [],
      "metadata": {}
    },
    {
      "cell_type": "code",
      "execution_count": null,
      "source": [
        "callCatDf = pd.DataFrame({\"CallCategory\": cat})\r\n",
        "callCatDf"
      ],
      "outputs": [],
      "metadata": {}
    },
    {
      "cell_type": "code",
      "execution_count": null,
      "source": [
        "callCatPBI = callCatDf.reset_index()"
      ],
      "outputs": [],
      "metadata": {}
    },
    {
      "cell_type": "code",
      "execution_count": null,
      "source": [
        "callCatDf.reset_index(inplace=True)\r\n",
        "callCatDf"
      ],
      "outputs": [],
      "metadata": {}
    },
    {
      "cell_type": "code",
      "execution_count": null,
      "source": [
        "callCatDf.set_index('CallCategory', inplace=True)\r\n",
        "callCatDf"
      ],
      "outputs": [],
      "metadata": {}
    },
    {
      "cell_type": "code",
      "execution_count": null,
      "source": [
        "callCatDict = callCatDf.to_dict()\r\n",
        "callCatDict"
      ],
      "outputs": [],
      "metadata": {}
    },
    {
      "cell_type": "code",
      "execution_count": null,
      "source": [
        "callCatDict['index']"
      ],
      "outputs": [],
      "metadata": {}
    },
    {
      "cell_type": "code",
      "execution_count": null,
      "source": [
        "df_for_PBI[\"CallCategory\"] = df_for_PBI.CallCategory.replace(callCatDict['index'])"
      ],
      "outputs": [],
      "metadata": {}
    },
    {
      "cell_type": "code",
      "execution_count": null,
      "source": [
        "df_for_PBI"
      ],
      "outputs": [],
      "metadata": {}
    },
    {
      "cell_type": "code",
      "execution_count": null,
      "source": [
        "########CallSubCategory\r\n",
        "df_for_PBI = new_unified.iloc[:,:]\r\n",
        "callSub = df_for_PBI.CallSubCategory.unique()\r\n",
        "callSub \r\n",
        "callSubDf = pd.DataFrame({\"CallSubCategory\": callSub})\r\n",
        "callSubDf\r\n",
        "callSubPBI = callSubDf.reset_index()\r\n",
        "callSubDf.reset_index(inplace=True)\r\n",
        "callSubDf\r\n",
        "callSubDf.set_index('CallSubCategory', inplace=True)\r\n",
        "callSubDf\r\n",
        "callSubDict = callSubDf.to_dict()\r\n",
        "callSubDict\r\n",
        "callSubDict['index']\r\n",
        "df_for_PBI[\"CallSubCategory\"] = df_for_PBI.CallSubCategory.replace(callSubDict['index'])\r\n",
        "df_for_PBI\r\n"
      ],
      "outputs": [],
      "metadata": {}
    },
    {
      "cell_type": "code",
      "execution_count": null,
      "source": [
        "###Callsubcategory1\r\n",
        "df_for_PBI = new_unified.iloc[:,:]\r\n",
        "callsub1 = df_for_PBI.Callsubcategory1.unique()\r\n",
        "callsub1\r\n",
        "callsub1Df = pd.DataFrame({\"Callsubcategory1\": callsub1})\r\n",
        "callsub1Df\r\n",
        "callsub1PBI = callsub1Df.reset_index()\r\n",
        "callsub1Df.reset_index(inplace=True)\r\n",
        "callsub1Df\r\n",
        "callsub1Df.set_index('Callsubcategory1', inplace=True)\r\n",
        "callsub1Df\r\n",
        "callsub1Dict = callsub1Df.to_dict()\r\n",
        "callsub1Dict\r\n",
        "callsub1Dict['index']\r\n",
        "df_for_PBI[\"Callsubcategory1\"] = df_for_PBI.Callsubcategory1.replace(callsub1Dict['index'])\r\n",
        "df_for_PBI\r\n",
        "\r\n"
      ],
      "outputs": [],
      "metadata": {}
    },
    {
      "cell_type": "code",
      "execution_count": null,
      "source": [
        "###Callsubcategory2\r\n",
        "df_for_PBI = new_unified.iloc[:,:]\r\n",
        "Callsub2 = df_for_PBI.Callsubcategory2.unique()\r\n",
        "Callsub2\r\n",
        "Callsub2Df = pd.DataFrame({\"Callsubcategory2\": Callsub2})\r\n",
        "Callsub2Df\r\n",
        "Callsub2PBI = Callsub2Df.reset_index()\r\n",
        "Callsub2Df.reset_index(inplace=True)\r\n",
        "Callsub2Df\r\n",
        "Callsub2Df.set_index('Callsubcategory2', inplace=True)\r\n",
        "Callsub2Df\r\n",
        "Callsub2Dict = Callsub2Df.to_dict()\r\n",
        "Callsub2Dict\r\n",
        "Callsub2Dict['index']\r\n",
        "df_for_PBI[\"Callsubcategory2\"] = df_for_PBI.Callsubcategory2.replace(Callsub2Dict['index'])\r\n",
        "df_for_PBI\r\n"
      ],
      "outputs": [],
      "metadata": {}
    },
    {
      "cell_type": "code",
      "execution_count": null,
      "source": [
        "##Location\r\n",
        "df_for_PBI = new_unified.iloc[:,:]\r\n",
        "loc = df_for_PBI.Location.unique()\r\n",
        "loc\r\n",
        "locDf = pd.DataFrame({\"Location\": loc})\r\n",
        "locDf\r\n",
        "locPBI = locDf.reset_index()\r\n",
        "locDf.reset_index(inplace=True)\r\n",
        "locDf\r\n",
        "locDf.set_index('Location', inplace=True)\r\n",
        "locDf\r\n",
        "locDict = locDf.to_dict()\r\n",
        "locDict\r\n",
        "locDict['index']\r\n",
        "df_for_PBI[\"Location\"] = df_for_PBI.Location.replace(locDict['index'])\r\n",
        "df_for_PBI\r\n",
        "\r\n"
      ],
      "outputs": [],
      "metadata": {}
    },
    {
      "cell_type": "code",
      "execution_count": null,
      "source": [
        "#Handset\r\n",
        "df_for_PBI = new_unified.iloc[:,:]\r\n",
        "Handset = df_for_PBI.Handset.unique()\r\n",
        "Handset\r\n",
        "HandsetDf = pd.DataFrame({\"Handset\": Handset})\r\n",
        "HandsetDf\r\n",
        "HandsetPBI = HandsetDf.reset_index()\r\n",
        "HandsetDf.reset_index(inplace=True)\r\n",
        "HandsetDf\r\n",
        "HandsetDf.set_index('Handset', inplace=True)\r\n",
        "HandsetDf\r\n",
        "HandsetDict = HandsetDf.to_dict()\r\n",
        "HandsetDict\r\n",
        "HandsetDict['index']\r\n",
        "df_for_PBI[\"Handset\"] = df_for_PBI.Handset.replace(HandsetDict['index'])\r\n",
        "df_for_PBI\r\n"
      ],
      "outputs": [],
      "metadata": {}
    },
    {
      "cell_type": "code",
      "execution_count": null,
      "source": [
        "###CreatedDate\r\n",
        "df_for_PBI = new_unified.iloc[:,:]\r\n",
        "CreatedDate\t = df_for_PBI.CreatedDate.unique()\r\n",
        "CreatedDate\t\r\n",
        "CreatedDateDf = pd.DataFrame({\"CreatedDate\": CreatedDate})\r\n",
        "CreatedDateDf\r\n",
        "CreatedDatetPBI = CreatedDateDf.reset_index()\r\n",
        "CreatedDateDf.reset_index(inplace=True)\r\n",
        "CreatedDateDf\r\n",
        "CreatedDateDf.set_index('CreatedDate', inplace=True)\r\n",
        "CreatedDateDf\r\n",
        "CreatedDateDict = CreatedDateDf.to_dict()\r\n",
        "CreatedDateDict\r\n",
        "CreatedDateDict['index']\r\n",
        "df_for_PBI[\"CreatedDate\"] = df_for_PBI.CreatedDate.replace(CreatedDateDict['index'])\r\n",
        "df_for_PBI"
      ],
      "outputs": [],
      "metadata": {}
    },
    {
      "cell_type": "code",
      "execution_count": null,
      "source": [
        "df_for_PBI.to_csv('df_for_PBI.csv', header=True, index=False)"
      ],
      "outputs": [],
      "metadata": {}
    },
    {
      "cell_type": "markdown",
      "source": [
        "## Data Analysis\r\n",
        "Explore the dataset to discover relationships between records or columns and patterns within the data.\r\n",
        "\r\n",
        "## Descriptive Statistical Analysis\r\n",
        "Using basic statistical measures such as measurements of central tendancy such as mean, median and mode.\r\n",
        "\r\n",
        "### Distribution of Variables\r\n",
        "Identify the distribution of the data to understand the range of values and how the data is structured.\r\n",
        "\r\n",
        "### Outliers in the dataset\r\n",
        "Identify if there are any outliers in the dataset based on statistical measures."
      ],
      "metadata": {
        "id": "WHp-JTxP10Uu"
      }
    },
    {
      "cell_type": "markdown",
      "source": [],
      "metadata": {}
    },
    {
      "cell_type": "markdown",
      "source": [],
      "metadata": {}
    },
    {
      "cell_type": "code",
      "execution_count": null,
      "source": [],
      "outputs": [],
      "metadata": {}
    },
    {
      "cell_type": "markdown",
      "source": [
        "# Reflections\n",
        "## Summary of Data Analysis\n",
        "- What insights should the user takeaway from EDA.\n",
        "\n",
        "## Questions unanswered\n",
        "- What aspects of the research question were we unable to answer and why?\n",
        "\n",
        "## Recommendations\n",
        "- What should the reader do next with this information?\n",
        "\n",
        "## Next Steps\n",
        "- What will the analyst do next based on the analysis?"
      ],
      "metadata": {
        "id": "IUywflAl9L3W"
      }
    },
    {
      "cell_type": "code",
      "execution_count": null,
      "source": [
        "# pip install -U spacy\r\n",
        "# python -m spacy download en_core_web_sm\r\n",
        "import spacy\r\n",
        "\r\n",
        "# Load English tokenizer, tagger, parser and NER\r\n",
        "nlp = spacy.load(\"fr_core_news_sm\")\r\n",
        "\r\n",
        "# Process whole documents\r\n",
        "text = (new_unified['AgentComment'].iloc[0])\r\n",
        "doc = nlp(text)\r\n",
        "\r\n",
        "# Analyze syntax\r\n",
        "print(\"Noun phrases:\", [chunk.text for chunk in doc.noun_chunks])\r\n",
        "print(\"Verbs:\", [token.lemma_ for token in doc if token.pos_ == \"VERB\"])\r\n",
        "\r\n",
        "# Find named entities, phrases and concepts\r\n",
        "for entity in doc.ents:\r\n",
        "    print(entity.text, entity.label_)"
      ],
      "outputs": [],
      "metadata": {
        "id": "91B1ac_JDqY1"
      }
    },
    {
      "cell_type": "code",
      "execution_count": null,
      "source": [
        "new_unified['AgentComment'].iloc[0]"
      ],
      "outputs": [],
      "metadata": {}
    },
    {
      "cell_type": "code",
      "execution_count": null,
      "source": [
        "new_unified.columns "
      ],
      "outputs": [],
      "metadata": {}
    },
    {
      "cell_type": "code",
      "execution_count": null,
      "source": [
        "#datatoexcel = pd.ExcelWriter(\"PowerBI_capstone.xlsx\")\r\n",
        "\r\n",
        "new_unified.to_excel('PowerBI_capstone.xlsx')\r\n",
        "#datatoexcel.save()"
      ],
      "outputs": [],
      "metadata": {}
    },
    {
      "cell_type": "code",
      "execution_count": null,
      "source": [],
      "outputs": [],
      "metadata": {}
    }
  ]
}